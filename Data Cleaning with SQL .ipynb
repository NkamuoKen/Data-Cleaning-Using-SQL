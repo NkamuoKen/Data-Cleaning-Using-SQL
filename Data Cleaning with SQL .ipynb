{
 "cells": [
  {
   "cell_type": "markdown",
   "id": "7e762f42",
   "metadata": {},
   "source": [
    "# Data Cleaning"
   ]
  },
  {
   "cell_type": "code",
   "execution_count": 1,
   "id": "ffd80e5c",
   "metadata": {},
   "outputs": [],
   "source": [
    "# Import libraries\n",
    "\n",
    "import pandas as pd\n",
    "import psycopg2"
   ]
  },
  {
   "cell_type": "code",
   "execution_count": 2,
   "id": "6c4ac667",
   "metadata": {},
   "outputs": [],
   "source": [
    "db_params = {\n",
    "    'database': 'learning',\n",
    "    'user': 'Kenechukwu Nkamuo',\n",
    "    'password': 'password',\n",
    "}"
   ]
  },
  {
   "cell_type": "code",
   "execution_count": 3,
   "id": "fd7ff90b",
   "metadata": {},
   "outputs": [],
   "source": [
    "#create connection\n",
    "\n",
    "connection = psycopg2.connect(**db_params)"
   ]
  },
  {
   "cell_type": "code",
   "execution_count": 4,
   "id": "435e5de1",
   "metadata": {},
   "outputs": [],
   "source": [
    "# The sql query\n",
    "\n",
    "sql_query = '''\n",
    "    SELECT\n",
    "        high,\n",
    "        low,\n",
    "        open,\n",
    "        TO_CHAR(TO_TIMESTAMP(time), 'DD/MM/YYYY') AS date,\n",
    "        volumefrom,\n",
    "        volumeto,\n",
    "        close,\n",
    "        currency_pair\n",
    "    FROM crypto_data;\n",
    "'''"
   ]
  },
  {
   "cell_type": "code",
   "execution_count": 5,
   "id": "e0943946",
   "metadata": {},
   "outputs": [
    {
     "name": "stderr",
     "output_type": "stream",
     "text": [
      "C:\\Users\\Toshiba\\AppData\\Local\\Temp\\ipykernel_2384\\629393175.py:3: UserWarning: pandas only supports SQLAlchemy connectable (engine/connection) or database string URI or sqlite3 DBAPI2 connection. Other DBAPI2 objects are not tested. Please consider using SQLAlchemy.\n",
      "  df = pd.read_sql_query(sql_query, connection)\n"
     ]
    }
   ],
   "source": [
    "# Put the query in a pandas dataframe\n",
    "\n",
    "df = pd.read_sql_query(sql_query, connection)"
   ]
  },
  {
   "cell_type": "code",
   "execution_count": 6,
   "id": "5437cbb0",
   "metadata": {},
   "outputs": [],
   "source": [
    "# Close connection\n",
    "\n",
    "connection.close()"
   ]
  },
  {
   "cell_type": "code",
   "execution_count": null,
   "id": "92f4d802",
   "metadata": {},
   "outputs": [],
   "source": [
    "# Print out the result\n",
    "\n",
    "df"
   ]
  },
  {
   "cell_type": "code",
   "execution_count": null,
   "id": "18be54b0",
   "metadata": {},
   "outputs": [],
   "source": []
  }
 ],
 "metadata": {
  "kernelspec": {
   "display_name": "Python 3 (ipykernel)",
   "language": "python",
   "name": "python3"
  },
  "language_info": {
   "codemirror_mode": {
    "name": "ipython",
    "version": 3
   },
   "file_extension": ".py",
   "mimetype": "text/x-python",
   "name": "python",
   "nbconvert_exporter": "python",
   "pygments_lexer": "ipython3",
   "version": "3.11.0"
  }
 },
 "nbformat": 4,
 "nbformat_minor": 5
}
